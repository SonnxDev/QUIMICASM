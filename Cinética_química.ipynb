{
  "nbformat": 4,
  "nbformat_minor": 0,
  "metadata": {
    "colab": {
      "provenance": [],
      "authorship_tag": "ABX9TyPivBBlZ2+/nEw4Q6sQis+H",
      "include_colab_link": true
    },
    "kernelspec": {
      "name": "python3",
      "display_name": "Python 3"
    },
    "language_info": {
      "name": "python"
    }
  },
  "cells": [
    {
      "cell_type": "markdown",
      "metadata": {
        "id": "view-in-github",
        "colab_type": "text"
      },
      "source": [
        "<a href=\"https://colab.research.google.com/github/SonnxDev/QUIMICASM/blob/main/Cin%C3%A9tica_qu%C3%ADmica.ipynb\" target=\"_parent\"><img src=\"https://colab.research.google.com/assets/colab-badge.svg\" alt=\"Open In Colab\"/></a>"
      ]
    },
    {
      "cell_type": "markdown",
      "source": [
        "PRIMERO HALLAREMOS LAS ESTRUCTURAS CIS Y TRANS DEL: F/C=C/C :\n",
        "\n"
      ],
      "metadata": {
        "id": "3scXn_ucdud9"
      }
    },
    {
      "cell_type": "markdown",
      "source": [
        "import matplotlib.pyplot as plt\n",
        "from energydiagram import ED\n",
        "diagram = ED()\n",
        "diagram.add_level(0,'Cis')\n",
        "diagram.add_level(8.5,'TS',color='g')\n",
        "diagram.add_level(5,'trans')\n",
        "\n",
        "diagram.add_link(0,1)\n",
        "diagram.add_link(1,2)\n",
        "diagram.plot(ylabel=\"Energy / $kcal$ $mol^{-1}$\") # this is the default ylabel\n",
        "\n",
        "--------------\n",
        "semilla: https://github.com/rdkit/rdkit/issues/2575\n",
        "\n",
        "m2 = Chem.MolFromSmiles(com)\n",
        "m3 = Chem.AddHs(m2)\n",
        "AllChem.EmbedMolecule(m3, useRandomCoords=False, randomSeed = 0)\n",
        "Chem.MolToMolFile(m3,'CheckMol'+str(index)+'.sdf')"
      ],
      "metadata": {
        "id": "F7Fyo-qsi0hG"
      }
    },
    {
      "cell_type": "code",
      "source": [
        "!pip install rdkit\n",
        "!pip install pyscf\n",
        "!pip install matplotlib"
      ],
      "metadata": {
        "colab": {
          "base_uri": "https://localhost:8080/"
        },
        "id": "6dDVW5U9d0PE",
        "outputId": "85e4052d-8e86-4447-ecc9-f3c39360d5f4"
      },
      "execution_count": null,
      "outputs": [
        {
          "output_type": "stream",
          "name": "stdout",
          "text": [
            "Requirement already satisfied: rdkit in /usr/local/lib/python3.10/dist-packages (2023.9.1)\n",
            "Requirement already satisfied: numpy in /usr/local/lib/python3.10/dist-packages (from rdkit) (1.23.5)\n",
            "Requirement already satisfied: Pillow in /usr/local/lib/python3.10/dist-packages (from rdkit) (9.4.0)\n",
            "Requirement already satisfied: pyscf in /usr/local/lib/python3.10/dist-packages (2.4.0)\n",
            "Requirement already satisfied: numpy!=1.16,!=1.17,>=1.13 in /usr/local/lib/python3.10/dist-packages (from pyscf) (1.23.5)\n",
            "Requirement already satisfied: scipy!=1.5.0,!=1.5.1 in /usr/local/lib/python3.10/dist-packages (from pyscf) (1.11.3)\n",
            "Requirement already satisfied: h5py>=2.7 in /usr/local/lib/python3.10/dist-packages (from pyscf) (3.9.0)\n",
            "Requirement already satisfied: setuptools in /usr/local/lib/python3.10/dist-packages (from pyscf) (67.7.2)\n",
            "Requirement already satisfied: matplotlib in /usr/local/lib/python3.10/dist-packages (3.7.1)\n",
            "Requirement already satisfied: contourpy>=1.0.1 in /usr/local/lib/python3.10/dist-packages (from matplotlib) (1.1.1)\n",
            "Requirement already satisfied: cycler>=0.10 in /usr/local/lib/python3.10/dist-packages (from matplotlib) (0.12.1)\n",
            "Requirement already satisfied: fonttools>=4.22.0 in /usr/local/lib/python3.10/dist-packages (from matplotlib) (4.43.1)\n",
            "Requirement already satisfied: kiwisolver>=1.0.1 in /usr/local/lib/python3.10/dist-packages (from matplotlib) (1.4.5)\n",
            "Requirement already satisfied: numpy>=1.20 in /usr/local/lib/python3.10/dist-packages (from matplotlib) (1.23.5)\n",
            "Requirement already satisfied: packaging>=20.0 in /usr/local/lib/python3.10/dist-packages (from matplotlib) (23.2)\n",
            "Requirement already satisfied: pillow>=6.2.0 in /usr/local/lib/python3.10/dist-packages (from matplotlib) (9.4.0)\n",
            "Requirement already satisfied: pyparsing>=2.3.1 in /usr/local/lib/python3.10/dist-packages (from matplotlib) (3.1.1)\n",
            "Requirement already satisfied: python-dateutil>=2.7 in /usr/local/lib/python3.10/dist-packages (from matplotlib) (2.8.2)\n",
            "Requirement already satisfied: six>=1.5 in /usr/local/lib/python3.10/dist-packages (from python-dateutil>=2.7->matplotlib) (1.16.0)\n"
          ]
        }
      ]
    },
    {
      "cell_type": "code",
      "source": [
        "# import these definitions\n",
        "from rdkit import Chem\n",
        "from rdkit.Chem import Draw\n",
        "from rdkit.Chem import AllChem\n",
        "from rdkit.Chem.Draw import IPythonConsole\n",
        "IPythonConsole.drawOptions.addAtomIndices = True\n"
      ],
      "metadata": {
        "id": "wuLbYgf6eC3U"
      },
      "execution_count": null,
      "outputs": []
    },
    {
      "cell_type": "markdown",
      "source": [
        "------------------------------------------------------------------------\n",
        "CIS DE LA MOLÉCULA / ENERGÍA"
      ],
      "metadata": {
        "id": "uuYNxE9boLM2"
      }
    },
    {
      "cell_type": "code",
      "source": [
        "# Pegamos el smiles\n",
        "smiles = \"F\\C=C/C\"\n",
        "\n",
        "# Convertimos con RDKIT\n",
        "mol = Chem.MolFromSmiles(smiles)\n",
        "\n",
        "# Dibujamos y ampliamos la estructura\n",
        "Draw.MolsToGridImage([mol])\n",
        "Draw.MolsToGridImage([mol], subImgSize=(200,200))"
      ],
      "metadata": {
        "colab": {
          "base_uri": "https://localhost:8080/",
          "height": 217
        },
        "id": "iCGNlLJceVM8",
        "outputId": "84d6921c-8e88-44ff-8756-b641359d784f"
      },
      "execution_count": null,
      "outputs": [
        {
          "output_type": "execute_result",
          "data": {
            "image/png": "[encoded data removed]",
            "text/plain": [
              "<IPython.core.display.Image object>"
            ]
          },
          "metadata": {},
          "execution_count": 5
        }
      ]
    },
    {
      "cell_type": "code",
      "source": [
        "# Añadimos hidrógenos\n",
        "mol_h = Chem.AddHs(mol)\n",
        "\n",
        "# Mostramos las estructuras\n",
        "Draw.MolsToGridImage([mol, mol_h], subImgSize=(300,300))"
      ],
      "metadata": {
        "colab": {
          "base_uri": "https://localhost:8080/",
          "height": 290
        },
        "id": "7FF9NVyIooNB",
        "outputId": "8f3d7efa-ee89-4d24-a7d3-5eb5e205b73d"
      },
      "execution_count": null,
      "outputs": [
        {
          "output_type": "execute_result",
          "data": {
            "image/png": "[encoded data removed]",
            "text/plain": [
              "<IPython.core.display.Image object>"
            ]
          },
          "metadata": {},
          "execution_count": 6
        }
      ]
    },
    {
      "cell_type": "code",
      "source": [
        "# Let us make it 3D by generating a random conformer\n",
        "Chem.AllChem.EmbedMolecule(mol_h)\n",
        "\n",
        "# look at the molecule again\n",
        "print(Chem.MolToMolBlock(mol_h))"
      ],
      "metadata": {
        "colab": {
          "base_uri": "https://localhost:8080/"
        },
        "id": "JFXh7t5Kofay",
        "outputId": "9e46d783-2dbd-47e1-9fe3-098e59a98630"
      },
      "execution_count": null,
      "outputs": [
        {
          "output_type": "stream",
          "name": "stdout",
          "text": [
            "\n",
            "     RDKit          3D\n",
            "\n",
            "  9  8  0  0  0  0  0  0  0  0999 V2000\n",
            "    1.1808    1.5005    0.5321 F   0  0  0  0  0  0  0  0  0  0  0  0\n",
            "    1.2955    0.2366    0.0442 C   0  0  0  0  0  0  0  0  0  0  0  0\n",
            "    0.2498   -0.5351   -0.2253 C   0  0  0  0  0  0  0  0  0  0  0  0\n",
            "   -1.1141    0.0312    0.0267 C   0  0  0  0  0  0  0  0  0  0  0  0\n",
            "    2.2866   -0.2066   -0.1511 H   0  0  0  0  0  0  0  0  0  0  0  0\n",
            "    0.3984   -1.5377   -0.6138 H   0  0  0  0  0  0  0  0  0  0  0  0\n",
            "   -1.8891   -0.4676   -0.6070 H   0  0  0  0  0  0  0  0  0  0  0  0\n",
            "   -1.3164   -0.1516    1.1146 H   0  0  0  0  0  0  0  0  0  0  0  0\n",
            "   -1.0915    1.1301   -0.1204 H   0  0  0  0  0  0  0  0  0  0  0  0\n",
            "  1  2  1  0\n",
            "  2  3  2  0\n",
            "  3  4  1  0\n",
            "  2  5  1  0\n",
            "  3  6  1  0\n",
            "  4  7  1  0\n",
            "  4  8  1  0\n",
            "  4  9  1  0\n",
            "M  END\n",
            "\n"
          ]
        }
      ]
    },
    {
      "cell_type": "code",
      "source": [
        "Chem.MolToXYZFile(mol_h,\"cisbuteno.xyz\")"
      ],
      "metadata": {
        "id": "Gub2orzAqCNq"
      },
      "execution_count": null,
      "outputs": []
    },
    {
      "cell_type": "markdown",
      "source": [
        "3D DEL CIS-BUTENO"
      ],
      "metadata": {
        "id": "q5rr1vDZrARv"
      }
    },
    {
      "cell_type": "code",
      "source": [
        "# creamos la molécula 3D del buteno\n",
        "smiles = \"F\\C=C/C\"\n",
        "mol = Chem.MolFromSmiles(smiles)\n",
        "mol = Chem.AddHs(mol)\n",
        "Chem.AllChem.EmbedMolecule(mol)\n",
        "Chem.MolToXYZFile(mol, \"cisbuteno.xyz\")\n",
        "mol"
      ],
      "metadata": {
        "colab": {
          "base_uri": "https://localhost:8080/",
          "height": 167
        },
        "id": "1WmVEzhlqR0o",
        "outputId": "f72a6a0e-71bc-4bab-b321-83ca41541d47"
      },
      "execution_count": null,
      "outputs": [
        {
          "output_type": "execute_result",
          "data": {
            "text/plain": [
              "<rdkit.Chem.rdchem.Mol at 0x782134769150>"
            ],
            "image/png": "[encoded data removed]"
          },
          "metadata": {},
          "execution_count": 14
        }
      ]
    },
    {
      "cell_type": "markdown",
      "source": [
        "ENERGÍA DEL CIS-BUTENO"
      ],
      "metadata": {
        "id": "EIIriIiLrD9q"
      }
    },
    {
      "cell_type": "code",
      "source": [
        "from pyscf import gto, scf"
      ],
      "metadata": {
        "id": "stMkbMOgrKvv"
      },
      "execution_count": null,
      "outputs": []
    },
    {
      "cell_type": "code",
      "source": [
        "mol = gto.M(atom=\"cisbuteno.xyz\")"
      ],
      "metadata": {
        "id": "BS8HezYitwar"
      },
      "execution_count": null,
      "outputs": []
    },
    {
      "cell_type": "code",
      "source": [
        "# cuchillo de pan\n",
        "mol.basis = \"3-21G\"\n",
        "\n",
        "# función molfg\n",
        "mf = mol.KS()\n",
        "mf.xc = 'b3lyp'\n",
        "mf.kernel()"
      ],
      "metadata": {
        "colab": {
          "base_uri": "https://localhost:8080/"
        },
        "id": "48pOv_PPulkt",
        "outputId": "68b7bec5-78ee-4bc2-d968-92dc75f98626"
      },
      "execution_count": null,
      "outputs": [
        {
          "output_type": "stream",
          "name": "stdout",
          "text": [
            "converged SCF energy = -214.251735751706\n"
          ]
        },
        {
          "output_type": "execute_result",
          "data": {
            "text/plain": [
              "-214.25173575170606"
            ]
          },
          "metadata": {},
          "execution_count": 17
        }
      ]
    },
    {
      "cell_type": "markdown",
      "source": [
        "------------------------------------------------------------------------\n",
        "TRANS DE LA MOLÉCULA / ENERGÍA"
      ],
      "metadata": {
        "id": "OpYlZmtZoQjE"
      }
    },
    {
      "cell_type": "code",
      "source": [
        "# Pegamos el smiles\n",
        "smiles = \"F/C=C/C\"\n",
        "\n",
        "# Convertimos con RDKIT\n",
        "mol = Chem.MolFromSmiles(smiles)\n",
        "\n",
        "# Dibujamos y ampliamos la estructura\n",
        "Draw.MolsToGridImage([mol])\n",
        "Draw.MolsToGridImage([mol], subImgSize=(400,200))"
      ],
      "metadata": {
        "colab": {
          "base_uri": "https://localhost:8080/",
          "height": 154
        },
        "id": "M4Z31o4Bw4nu",
        "outputId": "c7f62ef9-076a-4b24-a6b2-41b7344845ba"
      },
      "execution_count": null,
      "outputs": [
        {
          "output_type": "execute_result",
          "data": {
            "image/png": "[encoded data removed]",
            "text/plain": [
              "<IPython.core.display.Image object>"
            ]
          },
          "metadata": {},
          "execution_count": 24
        }
      ]
    },
    {
      "cell_type": "code",
      "source": [
        "# Añadimos hidrógenos\n",
        "mol_h = Chem.AddHs(mol)\n",
        "\n",
        "# Mostramos las estructuras\n",
        "Draw.MolsToGridImage([mol, mol_h], subImgSize=(300,300))"
      ],
      "metadata": {
        "colab": {
          "base_uri": "https://localhost:8080/",
          "height": 290
        },
        "id": "h1f5yJaaxLXA",
        "outputId": "e027b661-83eb-473a-9708-71a9f7e53408"
      },
      "execution_count": null,
      "outputs": [
        {
          "output_type": "execute_result",
          "data": {
            "image/png": "[encoded data removed]",
            "text/plain": [
              "<IPython.core.display.Image object>"
            ]
          },
          "metadata": {},
          "execution_count": 25
        }
      ]
    },
    {
      "cell_type": "code",
      "source": [
        "# Let us make it 3D by generating a random conformer\n",
        "Chem.AllChem.EmbedMolecule(mol_h)\n",
        "\n",
        "# look at the molecule again\n",
        "print(Chem.MolToMolBlock(mol_h))"
      ],
      "metadata": {
        "colab": {
          "base_uri": "https://localhost:8080/"
        },
        "id": "FPdeRhA60IrO",
        "outputId": "a42519fa-4d59-4225-cad6-1252006ccf17"
      },
      "execution_count": null,
      "outputs": [
        {
          "output_type": "stream",
          "name": "stdout",
          "text": [
            "\n",
            "     RDKit          3D\n",
            "\n",
            "  9  8  0  0  0  0  0  0  0  0999 V2000\n",
            "    2.5289    0.2634    0.0054 F   0  0  0  0  0  0  0  0  0  0  0  0\n",
            "    1.3000   -0.2679   -0.0825 C   0  0  0  0  0  0  0  0  0  0  0  0\n",
            "    0.2363    0.4823    0.0960 C   0  0  0  0  0  0  0  0  0  0  0  0\n",
            "   -1.1301   -0.0948    0.0011 C   0  0  0  0  0  0  0  0  0  0  0  0\n",
            "    1.1718   -1.3070   -0.2986 H   0  0  0  0  0  0  0  0  0  0  0  0\n",
            "    0.3241    1.5582    0.3207 H   0  0  0  0  0  0  0  0  0  0  0  0\n",
            "   -1.1572   -1.0193   -0.6124 H   0  0  0  0  0  0  0  0  0  0  0  0\n",
            "   -1.7698    0.6871   -0.4758 H   0  0  0  0  0  0  0  0  0  0  0  0\n",
            "   -1.5041   -0.3020    1.0459 H   0  0  0  0  0  0  0  0  0  0  0  0\n",
            "  1  2  1  0\n",
            "  2  3  2  0\n",
            "  3  4  1  0\n",
            "  2  5  1  0\n",
            "  3  6  1  0\n",
            "  4  7  1  0\n",
            "  4  8  1  0\n",
            "  4  9  1  0\n",
            "M  END\n",
            "\n"
          ]
        }
      ]
    },
    {
      "cell_type": "code",
      "source": [
        "Chem.MolToXYZFile(mol_h,\"transbuteno.xyz\")"
      ],
      "metadata": {
        "id": "WdkrVSAj0gML"
      },
      "execution_count": null,
      "outputs": []
    },
    {
      "cell_type": "markdown",
      "source": [
        "3D DEL TRANSBUTENO"
      ],
      "metadata": {
        "id": "oTzm8qWq1lry"
      }
    },
    {
      "cell_type": "code",
      "source": [
        "# creamos la molécula 3D del buteno\n",
        "smiles = \"F/C=C/C\"\n",
        "mol = Chem.MolFromSmiles(smiles)\n",
        "mol = Chem.AddHs(mol)\n",
        "Chem.AllChem.EmbedMolecule(mol)\n",
        "Chem.MolToXYZFile(mol, \"transbuteno.xyz\")\n",
        "mol"
      ],
      "metadata": {
        "colab": {
          "base_uri": "https://localhost:8080/",
          "height": 167
        },
        "id": "_-MazJ2712NG",
        "outputId": "784c1ef7-08a1-49a7-ea0e-d87ddb40f950"
      },
      "execution_count": null,
      "outputs": [
        {
          "output_type": "execute_result",
          "data": {
            "text/plain": [
              "<rdkit.Chem.rdchem.Mol at 0x7821189812a0>"
            ],
            "image/png": "[encoded data removed]"
          },
          "metadata": {},
          "execution_count": 29
        }
      ]
    },
    {
      "cell_type": "markdown",
      "source": [
        "ENERGÍA DEL TRANSBUTENO"
      ],
      "metadata": {
        "id": "gRog7A3G2CB9"
      }
    },
    {
      "cell_type": "code",
      "source": [
        "mol = gto.M(atom=\"transbuteno.xyz\")\n",
        "# cuchillo de pan\n",
        "mol.basis = \"3-21G\"\n",
        "\n",
        "# función molfg\n",
        "mf = mol.KS()\n",
        "mf.xc = 'b3lyp'\n",
        "mf.kernel()"
      ],
      "metadata": {
        "colab": {
          "base_uri": "https://localhost:8080/"
        },
        "id": "UJkrmyxA1-js",
        "outputId": "b5d219b4-1c53-4778-ceeb-a6063f07e061"
      },
      "execution_count": null,
      "outputs": [
        {
          "output_type": "stream",
          "name": "stdout",
          "text": [
            "converged SCF energy = -214.251256561266\n"
          ]
        },
        {
          "output_type": "execute_result",
          "data": {
            "text/plain": [
              "-214.2512565612658"
            ]
          },
          "metadata": {},
          "execution_count": 30
        }
      ]
    },
    {
      "cell_type": "markdown",
      "source": [
        "------------------------------------------------------------------------\n",
        "ROTACIÓN DE 90 DEL CIS / ENERGÍA / TRANSITIVO"
      ],
      "metadata": {
        "id": "-6Ph45i5oZKP"
      }
    },
    {
      "cell_type": "code",
      "source": [
        "smiles = \"F\\C=C/C\"\n",
        "mol = Chem.MolFromSmiles(smiles)\n",
        "mol = Chem.AddHs(mol)\n",
        "Chem.AllChem.EmbedMolecule(mol)\n",
        "Chem.MolToXYZFile(mol, \"cisbuteno.xyz\")\n",
        "mol"
      ],
      "metadata": {
        "colab": {
          "base_uri": "https://localhost:8080/",
          "height": 167
        },
        "id": "ar-YehMs_Oyc",
        "outputId": "ad898dfc-261e-4e7c-e876-a2c09714759e"
      },
      "execution_count": null,
      "outputs": [
        {
          "output_type": "execute_result",
          "data": {
            "text/plain": [
              "<rdkit.Chem.rdchem.Mol at 0x782112851a80>"
            ],
            "image/png": "[encoded data removed]"
          },
          "metadata": {},
          "execution_count": 34
        }
      ]
    },
    {
      "cell_type": "code",
      "source": [
        "# set the value to 90 for the conformer\n",
        "Chem.AllChem.SetDihedralDeg(mol.GetConformer(0),0,1,2,3,90.0)\n",
        "\n",
        "# save the new conformer\n",
        "Chem.MolToXYZFile(mol, \"cis90.xyz\")\n",
        "\n",
        "# Looks like it is set to 90\n",
        "mol"
      ],
      "metadata": {
        "colab": {
          "base_uri": "https://localhost:8080/",
          "height": 167
        },
        "id": "m97Y5brK-mpq",
        "outputId": "d26f7b1f-0ff0-4f02-9b3e-31d08f5bd44f"
      },
      "execution_count": null,
      "outputs": [
        {
          "output_type": "execute_result",
          "data": {
            "text/plain": [
              "<rdkit.Chem.rdchem.Mol at 0x782112851a80>"
            ],
            "image/png": "[encoded data removed]"
          },
          "metadata": {},
          "execution_count": 35
        }
      ]
    },
    {
      "cell_type": "markdown",
      "source": [
        "ENERGÍA TRANSITIVA"
      ],
      "metadata": {
        "id": "4DUeJ128_m3L"
      }
    },
    {
      "cell_type": "code",
      "source": [
        "mol = gto.M(atom=\"cis90.xyz\")\n",
        "# cuchillo de pan\n",
        "mol.basis = \"3-21G\"\n",
        "\n",
        "# función molfg\n",
        "mf = mol.KS()\n",
        "mf.xc = 'b3lyp'\n",
        "mf.kernel()"
      ],
      "metadata": {
        "colab": {
          "base_uri": "https://localhost:8080/"
        },
        "id": "0Chj47Zp_o4R",
        "outputId": "526e0b53-0950-455b-839b-632bc173d67f"
      },
      "execution_count": null,
      "outputs": [
        {
          "output_type": "stream",
          "name": "stdout",
          "text": [
            "converged SCF energy = -214.086635725512\n"
          ]
        },
        {
          "output_type": "execute_result",
          "data": {
            "text/plain": [
              "-214.08663572551208"
            ]
          },
          "metadata": {},
          "execution_count": 36
        }
      ]
    },
    {
      "cell_type": "markdown",
      "source": [
        "-----------------------------------------------------\n",
        "GRÁFICO DE LAS ENERGÍAS"
      ],
      "metadata": {
        "id": "0-If9pjqBI7W"
      }
    },
    {
      "cell_type": "code",
      "source": [
        "!pip install git+https://github.com/giacomomarchioro/PyEnergyDiagrams"
      ],
      "metadata": {
        "colab": {
          "base_uri": "https://localhost:8080/"
        },
        "id": "HY5Daw2mE1vs",
        "outputId": "db5440d7-f9a6-4d9b-cb79-20d15b466c5c"
      },
      "execution_count": null,
      "outputs": [
        {
          "output_type": "stream",
          "name": "stdout",
          "text": [
            "Collecting git+https://github.com/giacomomarchioro/PyEnergyDiagrams\n",
            "  Cloning https://github.com/giacomomarchioro/PyEnergyDiagrams to /tmp/pip-req-build-rogwl6qs\n",
            "  Running command git clone --filter=blob:none --quiet https://github.com/giacomomarchioro/PyEnergyDiagrams /tmp/pip-req-build-rogwl6qs\n",
            "  Resolved https://github.com/giacomomarchioro/PyEnergyDiagrams to commit 3d6086564aa99aa0a0f3db4a510b736015562d5c\n",
            "  Preparing metadata (setup.py) ... \u001b[?25l\u001b[?25hdone\n",
            "Requirement already satisfied: matplotlib in /usr/local/lib/python3.10/dist-packages (from energydiagram==0.2.0) (3.7.1)\n",
            "Requirement already satisfied: contourpy>=1.0.1 in /usr/local/lib/python3.10/dist-packages (from matplotlib->energydiagram==0.2.0) (1.1.1)\n",
            "Requirement already satisfied: cycler>=0.10 in /usr/local/lib/python3.10/dist-packages (from matplotlib->energydiagram==0.2.0) (0.12.1)\n",
            "Requirement already satisfied: fonttools>=4.22.0 in /usr/local/lib/python3.10/dist-packages (from matplotlib->energydiagram==0.2.0) (4.43.1)\n",
            "Requirement already satisfied: kiwisolver>=1.0.1 in /usr/local/lib/python3.10/dist-packages (from matplotlib->energydiagram==0.2.0) (1.4.5)\n",
            "Requirement already satisfied: numpy>=1.20 in /usr/local/lib/python3.10/dist-packages (from matplotlib->energydiagram==0.2.0) (1.23.5)\n",
            "Requirement already satisfied: packaging>=20.0 in /usr/local/lib/python3.10/dist-packages (from matplotlib->energydiagram==0.2.0) (23.2)\n",
            "Requirement already satisfied: pillow>=6.2.0 in /usr/local/lib/python3.10/dist-packages (from matplotlib->energydiagram==0.2.0) (9.4.0)\n",
            "Requirement already satisfied: pyparsing>=2.3.1 in /usr/local/lib/python3.10/dist-packages (from matplotlib->energydiagram==0.2.0) (3.1.1)\n",
            "Requirement already satisfied: python-dateutil>=2.7 in /usr/local/lib/python3.10/dist-packages (from matplotlib->energydiagram==0.2.0) (2.8.2)\n",
            "Requirement already satisfied: six>=1.5 in /usr/local/lib/python3.10/dist-packages (from python-dateutil>=2.7->matplotlib->energydiagram==0.2.0) (1.16.0)\n",
            "Building wheels for collected packages: energydiagram\n",
            "  Building wheel for energydiagram (setup.py) ... \u001b[?25l\u001b[?25hdone\n",
            "  Created wheel for energydiagram: filename=energydiagram-0.2.0-py3-none-any.whl size=9465 sha256=6a07ef72c0d6daf4d6d1e438aa1807bd8e8745473b98699f0d102b9d031f9022\n",
            "  Stored in directory: /tmp/pip-ephem-wheel-cache-swlea8vq/wheels/fd/36/8c/10ed87cd41f9638b1e3a44dabe7e1e185131d967ea6ed395cf\n",
            "Successfully built energydiagram\n",
            "Installing collected packages: energydiagram\n",
            "Successfully installed energydiagram-0.2.0\n"
          ]
        }
      ]
    },
    {
      "cell_type": "code",
      "source": [
        "import matplotlib.pyplot as plt\n",
        "from energydiagram import ED\n",
        "diagram = ED()\n",
        "diagram.add_level(-214.25173575170606,'Cis')\n",
        "diagram.add_level(-214.08663572551208,'TS',color='g')\n",
        "diagram.add_level(-214.2512565612658,'trans')\n",
        "diagram.add_link(0,1)\n",
        "diagram.add_link(1,2)\n",
        "diagram.plot(ylabel=\"Energy / $kcal$ $mol^{-1}$\") # this is the default ylabel"
      ],
      "metadata": {
        "colab": {
          "base_uri": "https://localhost:8080/",
          "height": 393
        },
        "id": "Dr8T9t9rBIbr",
        "outputId": "2b77404d-aadb-4a00-8b45-580565090d46"
      },
      "execution_count": null,
      "outputs": [
        {
          "output_type": "display_data",
          "data": {
            "text/plain": [
              "<Figure size 640x480 with 1 Axes>"
            ],
            "image/png": "[encoded data removed]"
          },
          "metadata": {}
        }
      ]
    },
    {
      "cell_type": "markdown",
      "source": [
        "-----------------------------------------------------\n",
        "\n",
        "¿REACCIÓN ENDOTÉRMICA O EXOTÉRMICA?"
      ],
      "metadata": {
        "id": "tNW_CspjH5mA"
      }
    },
    {
      "cell_type": "code",
      "source": [
        "cis = -214.25173575170606\n",
        "trans = -214.2512565612658\n",
        "TS = -214.08663572551208\n",
        "reacc = trans - cis\n",
        "if (trans - cis > 0):\n",
        "  print(reacc,\"La reacción es endotérmica\")\n",
        "else:\n",
        "  print(\"La reacción es exotérmica\")"
      ],
      "metadata": {
        "colab": {
          "base_uri": "https://localhost:8080/"
        },
        "id": "Ka4rqHGNIBXS",
        "outputId": "45289aaa-da37-43eb-8b7e-895365de41ba"
      },
      "execution_count": null,
      "outputs": [
        {
          "output_type": "stream",
          "name": "stdout",
          "text": [
            "0.0004791904402736691 La reacción es endotérmica\n"
          ]
        }
      ]
    }
  ]
}