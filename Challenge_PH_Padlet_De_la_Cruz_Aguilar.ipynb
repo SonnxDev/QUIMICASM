{
  "nbformat": 4,
  "nbformat_minor": 0,
  "metadata": {
    "colab": {
      "provenance": [],
      "authorship_tag": "ABX9TyM5UbMXzydI9KhZuWJ54HMM",
      "include_colab_link": true
    },
    "kernelspec": {
      "name": "python3",
      "display_name": "Python 3"
    },
    "language_info": {
      "name": "python"
    }
  },
  "cells": [
    {
      "cell_type": "markdown",
      "metadata": {
        "id": "view-in-github",
        "colab_type": "text"
      },
      "source": [
        "<a href=\"https://colab.research.google.com/github/SonnxDev/QUIMICASM/blob/main/Challenge_PH_Padlet_De_la_Cruz_Aguilar.ipynb\" target=\"_parent\"><img src=\"https://colab.research.google.com/assets/colab-badge.svg\" alt=\"Open In Colab\"/></a>"
      ]
    },
    {
      "cell_type": "code",
      "execution_count": 1,
      "metadata": {
        "colab": {
          "base_uri": "https://localhost:8080/"
        },
        "id": "nCZHiY1lg-Uy",
        "outputId": "396e9886-7140-466f-a456-9b2af00f0497"
      },
      "outputs": [
        {
          "output_type": "stream",
          "name": "stdout",
          "text": [
            "Collecting chempy\n",
            "  Downloading chempy-0.8.3-py2.py3-none-any.whl (210 kB)\n",
            "\u001b[2K     \u001b[90m━━━━━━━━━━━━━━━━━━━━━━━━━━━━━━━━━━━━━━━━\u001b[0m \u001b[32m210.4/210.4 kB\u001b[0m \u001b[31m4.0 MB/s\u001b[0m eta \u001b[36m0:00:00\u001b[0m\n",
            "\u001b[?25hCollecting dot2tex>=2.11.3 (from chempy)\n",
            "  Downloading dot2tex-2.11.3-py2.py3-none-any.whl (36 kB)\n",
            "Requirement already satisfied: matplotlib>=2.2.3 in /usr/local/lib/python3.10/dist-packages (from chempy) (3.7.1)\n",
            "Requirement already satisfied: numpy>1.11.3 in /usr/local/lib/python3.10/dist-packages (from chempy) (1.23.5)\n",
            "Collecting pulp>=1.6.8 (from chempy)\n",
            "  Downloading PuLP-2.7.0-py3-none-any.whl (14.3 MB)\n",
            "\u001b[2K     \u001b[90m━━━━━━━━━━━━━━━━━━━━━━━━━━━━━━━━━━━━━━━━\u001b[0m \u001b[32m14.3/14.3 MB\u001b[0m \u001b[31m42.5 MB/s\u001b[0m eta \u001b[36m0:00:00\u001b[0m\n",
            "\u001b[?25hCollecting pyneqsys>=0.5.5 (from chempy)\n",
            "  Downloading pyneqsys-0.5.7.tar.gz (29 kB)\n",
            "  Preparing metadata (setup.py) ... \u001b[?25l\u001b[?25hdone\n",
            "Collecting pyodesys>=0.14.1 (from chempy)\n",
            "  Downloading pyodesys-0.14.2.tar.gz (242 kB)\n",
            "\u001b[2K     \u001b[90m━━━━━━━━━━━━━━━━━━━━━━━━━━━━━━━━━━━━━━━━\u001b[0m \u001b[32m242.2/242.2 kB\u001b[0m \u001b[31m16.2 MB/s\u001b[0m eta \u001b[36m0:00:00\u001b[0m\n",
            "\u001b[?25h  Preparing metadata (setup.py) ... \u001b[?25l\u001b[?25hdone\n",
            "Requirement already satisfied: pyparsing>=2.0.3 in /usr/local/lib/python3.10/dist-packages (from chempy) (3.1.1)\n",
            "Collecting quantities>=0.12.1 (from chempy)\n",
            "  Downloading quantities-0.14.1-py3-none-any.whl (87 kB)\n",
            "\u001b[2K     \u001b[90m━━━━━━━━━━━━━━━━━━━━━━━━━━━━━━━━━━━━━━━━\u001b[0m \u001b[32m87.9/87.9 kB\u001b[0m \u001b[31m8.4 MB/s\u001b[0m eta \u001b[36m0:00:00\u001b[0m\n",
            "\u001b[?25hRequirement already satisfied: scipy>=1.0.1 in /usr/local/lib/python3.10/dist-packages (from chempy) (1.11.3)\n",
            "Collecting sym>=0.3.4 (from chempy)\n",
            "  Downloading sym-0.3.5.tar.gz (31 kB)\n",
            "  Preparing metadata (setup.py) ... \u001b[?25l\u001b[?25hdone\n",
            "Requirement already satisfied: sympy!=1.2,>=1.1.1 in /usr/local/lib/python3.10/dist-packages (from chempy) (1.12)\n",
            "Requirement already satisfied: contourpy>=1.0.1 in /usr/local/lib/python3.10/dist-packages (from matplotlib>=2.2.3->chempy) (1.2.0)\n",
            "Requirement already satisfied: cycler>=0.10 in /usr/local/lib/python3.10/dist-packages (from matplotlib>=2.2.3->chempy) (0.12.1)\n",
            "Requirement already satisfied: fonttools>=4.22.0 in /usr/local/lib/python3.10/dist-packages (from matplotlib>=2.2.3->chempy) (4.44.0)\n",
            "Requirement already satisfied: kiwisolver>=1.0.1 in /usr/local/lib/python3.10/dist-packages (from matplotlib>=2.2.3->chempy) (1.4.5)\n",
            "Requirement already satisfied: packaging>=20.0 in /usr/local/lib/python3.10/dist-packages (from matplotlib>=2.2.3->chempy) (23.2)\n",
            "Requirement already satisfied: pillow>=6.2.0 in /usr/local/lib/python3.10/dist-packages (from matplotlib>=2.2.3->chempy) (9.4.0)\n",
            "Requirement already satisfied: python-dateutil>=2.7 in /usr/local/lib/python3.10/dist-packages (from matplotlib>=2.2.3->chempy) (2.8.2)\n",
            "Requirement already satisfied: notebook in /usr/local/lib/python3.10/dist-packages (from pyodesys>=0.14.1->chempy) (6.5.5)\n",
            "Requirement already satisfied: mpmath>=0.19 in /usr/local/lib/python3.10/dist-packages (from sympy!=1.2,>=1.1.1->chempy) (1.3.0)\n",
            "Requirement already satisfied: six>=1.5 in /usr/local/lib/python3.10/dist-packages (from python-dateutil>=2.7->matplotlib>=2.2.3->chempy) (1.16.0)\n",
            "Requirement already satisfied: jinja2 in /usr/local/lib/python3.10/dist-packages (from notebook->pyodesys>=0.14.1->chempy) (3.1.2)\n",
            "Requirement already satisfied: tornado>=6.1 in /usr/local/lib/python3.10/dist-packages (from notebook->pyodesys>=0.14.1->chempy) (6.3.2)\n",
            "Requirement already satisfied: pyzmq<25,>=17 in /usr/local/lib/python3.10/dist-packages (from notebook->pyodesys>=0.14.1->chempy) (23.2.1)\n",
            "Requirement already satisfied: argon2-cffi in /usr/local/lib/python3.10/dist-packages (from notebook->pyodesys>=0.14.1->chempy) (23.1.0)\n",
            "Requirement already satisfied: traitlets>=4.2.1 in /usr/local/lib/python3.10/dist-packages (from notebook->pyodesys>=0.14.1->chempy) (5.7.1)\n",
            "Requirement already satisfied: jupyter-core>=4.6.1 in /usr/local/lib/python3.10/dist-packages (from notebook->pyodesys>=0.14.1->chempy) (5.5.0)\n",
            "Requirement already satisfied: jupyter-client<8,>=5.3.4 in /usr/local/lib/python3.10/dist-packages (from notebook->pyodesys>=0.14.1->chempy) (6.1.12)\n",
            "Requirement already satisfied: ipython-genutils in /usr/local/lib/python3.10/dist-packages (from notebook->pyodesys>=0.14.1->chempy) (0.2.0)\n",
            "Requirement already satisfied: nbformat in /usr/local/lib/python3.10/dist-packages (from notebook->pyodesys>=0.14.1->chempy) (5.9.2)\n",
            "Requirement already satisfied: nbconvert>=5 in /usr/local/lib/python3.10/dist-packages (from notebook->pyodesys>=0.14.1->chempy) (6.5.4)\n",
            "Requirement already satisfied: nest-asyncio>=1.5 in /usr/local/lib/python3.10/dist-packages (from notebook->pyodesys>=0.14.1->chempy) (1.5.8)\n",
            "Requirement already satisfied: ipykernel in /usr/local/lib/python3.10/dist-packages (from notebook->pyodesys>=0.14.1->chempy) (5.5.6)\n",
            "Requirement already satisfied: Send2Trash>=1.8.0 in /usr/local/lib/python3.10/dist-packages (from notebook->pyodesys>=0.14.1->chempy) (1.8.2)\n",
            "Requirement already satisfied: terminado>=0.8.3 in /usr/local/lib/python3.10/dist-packages (from notebook->pyodesys>=0.14.1->chempy) (0.17.1)\n",
            "Requirement already satisfied: prometheus-client in /usr/local/lib/python3.10/dist-packages (from notebook->pyodesys>=0.14.1->chempy) (0.18.0)\n",
            "Requirement already satisfied: nbclassic>=0.4.7 in /usr/local/lib/python3.10/dist-packages (from notebook->pyodesys>=0.14.1->chempy) (1.0.0)\n",
            "Requirement already satisfied: platformdirs>=2.5 in /usr/local/lib/python3.10/dist-packages (from jupyter-core>=4.6.1->notebook->pyodesys>=0.14.1->chempy) (3.11.0)\n",
            "Requirement already satisfied: jupyter-server>=1.8 in /usr/local/lib/python3.10/dist-packages (from nbclassic>=0.4.7->notebook->pyodesys>=0.14.1->chempy) (1.24.0)\n",
            "Requirement already satisfied: notebook-shim>=0.2.3 in /usr/local/lib/python3.10/dist-packages (from nbclassic>=0.4.7->notebook->pyodesys>=0.14.1->chempy) (0.2.3)\n",
            "Requirement already satisfied: lxml in /usr/local/lib/python3.10/dist-packages (from nbconvert>=5->notebook->pyodesys>=0.14.1->chempy) (4.9.3)\n",
            "Requirement already satisfied: beautifulsoup4 in /usr/local/lib/python3.10/dist-packages (from nbconvert>=5->notebook->pyodesys>=0.14.1->chempy) (4.11.2)\n",
            "Requirement already satisfied: bleach in /usr/local/lib/python3.10/dist-packages (from nbconvert>=5->notebook->pyodesys>=0.14.1->chempy) (6.1.0)\n",
            "Requirement already satisfied: defusedxml in /usr/local/lib/python3.10/dist-packages (from nbconvert>=5->notebook->pyodesys>=0.14.1->chempy) (0.7.1)\n",
            "Requirement already satisfied: entrypoints>=0.2.2 in /usr/local/lib/python3.10/dist-packages (from nbconvert>=5->notebook->pyodesys>=0.14.1->chempy) (0.4)\n",
            "Requirement already satisfied: jupyterlab-pygments in /usr/local/lib/python3.10/dist-packages (from nbconvert>=5->notebook->pyodesys>=0.14.1->chempy) (0.2.2)\n",
            "Requirement already satisfied: MarkupSafe>=2.0 in /usr/local/lib/python3.10/dist-packages (from nbconvert>=5->notebook->pyodesys>=0.14.1->chempy) (2.1.3)\n",
            "Requirement already satisfied: mistune<2,>=0.8.1 in /usr/local/lib/python3.10/dist-packages (from nbconvert>=5->notebook->pyodesys>=0.14.1->chempy) (0.8.4)\n",
            "Requirement already satisfied: nbclient>=0.5.0 in /usr/local/lib/python3.10/dist-packages (from nbconvert>=5->notebook->pyodesys>=0.14.1->chempy) (0.9.0)\n",
            "Requirement already satisfied: pandocfilters>=1.4.1 in /usr/local/lib/python3.10/dist-packages (from nbconvert>=5->notebook->pyodesys>=0.14.1->chempy) (1.5.0)\n",
            "Requirement already satisfied: pygments>=2.4.1 in /usr/local/lib/python3.10/dist-packages (from nbconvert>=5->notebook->pyodesys>=0.14.1->chempy) (2.16.1)\n",
            "Requirement already satisfied: tinycss2 in /usr/local/lib/python3.10/dist-packages (from nbconvert>=5->notebook->pyodesys>=0.14.1->chempy) (1.2.1)\n",
            "Requirement already satisfied: fastjsonschema in /usr/local/lib/python3.10/dist-packages (from nbformat->notebook->pyodesys>=0.14.1->chempy) (2.18.1)\n",
            "Requirement already satisfied: jsonschema>=2.6 in /usr/local/lib/python3.10/dist-packages (from nbformat->notebook->pyodesys>=0.14.1->chempy) (4.19.2)\n",
            "Requirement already satisfied: ptyprocess in /usr/local/lib/python3.10/dist-packages (from terminado>=0.8.3->notebook->pyodesys>=0.14.1->chempy) (0.7.0)\n",
            "Requirement already satisfied: argon2-cffi-bindings in /usr/local/lib/python3.10/dist-packages (from argon2-cffi->notebook->pyodesys>=0.14.1->chempy) (21.2.0)\n",
            "Requirement already satisfied: ipython>=5.0.0 in /usr/local/lib/python3.10/dist-packages (from ipykernel->notebook->pyodesys>=0.14.1->chempy) (7.34.0)\n",
            "Requirement already satisfied: setuptools>=18.5 in /usr/local/lib/python3.10/dist-packages (from ipython>=5.0.0->ipykernel->notebook->pyodesys>=0.14.1->chempy) (67.7.2)\n",
            "Collecting jedi>=0.16 (from ipython>=5.0.0->ipykernel->notebook->pyodesys>=0.14.1->chempy)\n",
            "  Downloading jedi-0.19.1-py2.py3-none-any.whl (1.6 MB)\n",
            "\u001b[2K     \u001b[90m━━━━━━━━━━━━━━━━━━━━━━━━━━━━━━━━━━━━━━━━\u001b[0m \u001b[32m1.6/1.6 MB\u001b[0m \u001b[31m63.9 MB/s\u001b[0m eta \u001b[36m0:00:00\u001b[0m\n",
            "\u001b[?25hRequirement already satisfied: decorator in /usr/local/lib/python3.10/dist-packages (from ipython>=5.0.0->ipykernel->notebook->pyodesys>=0.14.1->chempy) (4.4.2)\n",
            "Requirement already satisfied: pickleshare in /usr/local/lib/python3.10/dist-packages (from ipython>=5.0.0->ipykernel->notebook->pyodesys>=0.14.1->chempy) (0.7.5)\n",
            "Requirement already satisfied: prompt-toolkit!=3.0.0,!=3.0.1,<3.1.0,>=2.0.0 in /usr/local/lib/python3.10/dist-packages (from ipython>=5.0.0->ipykernel->notebook->pyodesys>=0.14.1->chempy) (3.0.39)\n",
            "Requirement already satisfied: backcall in /usr/local/lib/python3.10/dist-packages (from ipython>=5.0.0->ipykernel->notebook->pyodesys>=0.14.1->chempy) (0.2.0)\n",
            "Requirement already satisfied: matplotlib-inline in /usr/local/lib/python3.10/dist-packages (from ipython>=5.0.0->ipykernel->notebook->pyodesys>=0.14.1->chempy) (0.1.6)\n",
            "Requirement already satisfied: pexpect>4.3 in /usr/local/lib/python3.10/dist-packages (from ipython>=5.0.0->ipykernel->notebook->pyodesys>=0.14.1->chempy) (4.8.0)\n",
            "Requirement already satisfied: attrs>=22.2.0 in /usr/local/lib/python3.10/dist-packages (from jsonschema>=2.6->nbformat->notebook->pyodesys>=0.14.1->chempy) (23.1.0)\n",
            "Requirement already satisfied: jsonschema-specifications>=2023.03.6 in /usr/local/lib/python3.10/dist-packages (from jsonschema>=2.6->nbformat->notebook->pyodesys>=0.14.1->chempy) (2023.7.1)\n",
            "Requirement already satisfied: referencing>=0.28.4 in /usr/local/lib/python3.10/dist-packages (from jsonschema>=2.6->nbformat->notebook->pyodesys>=0.14.1->chempy) (0.30.2)\n",
            "Requirement already satisfied: rpds-py>=0.7.1 in /usr/local/lib/python3.10/dist-packages (from jsonschema>=2.6->nbformat->notebook->pyodesys>=0.14.1->chempy) (0.12.0)\n",
            "Requirement already satisfied: anyio<4,>=3.1.0 in /usr/local/lib/python3.10/dist-packages (from jupyter-server>=1.8->nbclassic>=0.4.7->notebook->pyodesys>=0.14.1->chempy) (3.7.1)\n",
            "Requirement already satisfied: websocket-client in /usr/local/lib/python3.10/dist-packages (from jupyter-server>=1.8->nbclassic>=0.4.7->notebook->pyodesys>=0.14.1->chempy) (1.6.4)\n",
            "Requirement already satisfied: cffi>=1.0.1 in /usr/local/lib/python3.10/dist-packages (from argon2-cffi-bindings->argon2-cffi->notebook->pyodesys>=0.14.1->chempy) (1.16.0)\n",
            "Requirement already satisfied: soupsieve>1.2 in /usr/local/lib/python3.10/dist-packages (from beautifulsoup4->nbconvert>=5->notebook->pyodesys>=0.14.1->chempy) (2.5)\n",
            "Requirement already satisfied: webencodings in /usr/local/lib/python3.10/dist-packages (from bleach->nbconvert>=5->notebook->pyodesys>=0.14.1->chempy) (0.5.1)\n",
            "Requirement already satisfied: idna>=2.8 in /usr/local/lib/python3.10/dist-packages (from anyio<4,>=3.1.0->jupyter-server>=1.8->nbclassic>=0.4.7->notebook->pyodesys>=0.14.1->chempy) (3.4)\n",
            "Requirement already satisfied: sniffio>=1.1 in /usr/local/lib/python3.10/dist-packages (from anyio<4,>=3.1.0->jupyter-server>=1.8->nbclassic>=0.4.7->notebook->pyodesys>=0.14.1->chempy) (1.3.0)\n",
            "Requirement already satisfied: exceptiongroup in /usr/local/lib/python3.10/dist-packages (from anyio<4,>=3.1.0->jupyter-server>=1.8->nbclassic>=0.4.7->notebook->pyodesys>=0.14.1->chempy) (1.1.3)\n",
            "Requirement already satisfied: pycparser in /usr/local/lib/python3.10/dist-packages (from cffi>=1.0.1->argon2-cffi-bindings->argon2-cffi->notebook->pyodesys>=0.14.1->chempy) (2.21)\n",
            "Requirement already satisfied: parso<0.9.0,>=0.8.3 in /usr/local/lib/python3.10/dist-packages (from jedi>=0.16->ipython>=5.0.0->ipykernel->notebook->pyodesys>=0.14.1->chempy) (0.8.3)\n",
            "Requirement already satisfied: wcwidth in /usr/local/lib/python3.10/dist-packages (from prompt-toolkit!=3.0.0,!=3.0.1,<3.1.0,>=2.0.0->ipython>=5.0.0->ipykernel->notebook->pyodesys>=0.14.1->chempy) (0.2.9)\n",
            "Building wheels for collected packages: pyneqsys, pyodesys, sym\n",
            "  Building wheel for pyneqsys (setup.py) ... \u001b[?25l\u001b[?25hdone\n",
            "  Created wheel for pyneqsys: filename=pyneqsys-0.5.7-py2.py3-none-any.whl size=27264 sha256=c7d801ec98d089b85b6269b1e47365e08a1695334bfab6513632aa0bce9d4c75\n",
            "  Stored in directory: /root/.cache/pip/wheels/63/9e/0f/f0e239f188774c6772dd98f3979e5aa53af04922d8411b9f13\n",
            "  Building wheel for pyodesys (setup.py) ... \u001b[?25l\u001b[?25hdone\n",
            "  Created wheel for pyodesys: filename=pyodesys-0.14.2-py2.py3-none-any.whl size=126195 sha256=bbdb83ec14be642f67b7aade2c6a7da762af9c6bc20b5baca66187adfff28509\n",
            "  Stored in directory: /root/.cache/pip/wheels/8a/ba/01/a97e8785dd046748d5b61ae4d61e83bf3cf11c8319c781436c\n",
            "  Building wheel for sym (setup.py) ... \u001b[?25l\u001b[?25hdone\n",
            "  Created wheel for sym: filename=sym-0.3.5-py2.py3-none-any.whl size=21076 sha256=59ca7c55a51910c18f3aa410cbca3eea35a30ef3b2241d0075e2ff616b644010\n",
            "  Stored in directory: /root/.cache/pip/wheels/12/14/fc/fe00b0a0a15ebb7e14cc7dab8da24312d43794fb304a002f2a\n",
            "Successfully built pyneqsys pyodesys sym\n",
            "Installing collected packages: pulp, sym, quantities, jedi, dot2tex, pyneqsys, pyodesys, chempy\n",
            "Successfully installed chempy-0.8.3 dot2tex-2.11.3 jedi-0.19.1 pulp-2.7.0 pyneqsys-0.5.7 pyodesys-0.14.2 quantities-0.14.1 sym-0.3.5\n"
          ]
        }
      ],
      "source": [
        "!pip install chempy"
      ]
    },
    {
      "cell_type": "code",
      "source": [
        "import chempy\n",
        "from collections import defaultdict\n",
        "from chempy.equilibria import EqSystem\n",
        "from math import log10\n"
      ],
      "metadata": {
        "id": "cvzoGNdDhkWs"
      },
      "execution_count": 2,
      "outputs": []
    },
    {
      "cell_type": "markdown",
      "source": [
        "------------------------------------------------------------------------"
      ],
      "metadata": {
        "id": "aQf34rE5ha72"
      }
    },
    {
      "cell_type": "markdown",
      "source": [
        "PH ÁCIDO FLUORHÍDRICO"
      ],
      "metadata": {
        "id": "HyGRXISrhdz9"
      }
    },
    {
      "cell_type": "code",
      "source": [
        "# Ecuación del ácido fluorhídrico\n",
        "eqsys = EqSystem.from_string(\"\"\"HF = H+ + F-; 10**-3.17\n",
        "  H2O = H+ + OH-; 10**-14/55.4\n",
        "  \"\"\")  # pKa(HF) = 3.17 & pKw=14\n",
        "\n",
        "# Resolvemos el sistema de ecuaciones\n",
        "arr, info, sane = eqsys.root(defaultdict(float, {'H2O': 55.4, 'HF': 1e-2}))\n",
        "\n",
        "# Diccionario de concentraciones\n",
        "conc = dict(zip(eqsys.substances, arr))\n",
        "\n",
        "# Ph del ácido fluorhídrico\n",
        "print(\"pH: %.2f\" % -log10(conc['H+']))"
      ],
      "metadata": {
        "colab": {
          "base_uri": "https://localhost:8080/"
        },
        "id": "ooijYqQvhjdC",
        "outputId": "a07d6c75-af34-470b-cd8b-65a8b09054cb"
      },
      "execution_count": 3,
      "outputs": [
        {
          "output_type": "stream",
          "name": "stdout",
          "text": [
            "pH: 2.64\n"
          ]
        }
      ]
    },
    {
      "cell_type": "markdown",
      "source": [
        "------------------------------------------------------------------------"
      ],
      "metadata": {
        "id": "aHyvkm1FhsQx"
      }
    },
    {
      "cell_type": "markdown",
      "source": [
        "PH ÁCIDO ACÉTICO"
      ],
      "metadata": {
        "id": "SD4QoW6LhuLO"
      }
    },
    {
      "cell_type": "code",
      "source": [
        "# Ecuación del ácido acético\n",
        "eqsys_acetico = EqSystem.from_string(\"\"\"CH3COOH = H+ + CH3COO-; 10**-4.76\n",
        "  H2O = H+ + OH-; 10**-14/55.4\n",
        "  \"\"\")  # pKa(CH3COOH) = 4.76 & pKw=14\n",
        "\n",
        "# Resolución del sistema de ecuaciones\n",
        "arr_acetico, info_acetico, sane_acetico = eqsys_acetico.root(defaultdict(float, {'H2O': 55.4, 'CH3COOH': 1e-2}))\n",
        "\n",
        "# Diccionario de concentraciones\n",
        "conc_acetico = dict(zip(eqsys_acetico.substances, arr_acetico))\n",
        "\n",
        "# Ph del ácido acético\n",
        "print(\"pH (Ácido Acético): %.2f\" % -log10(conc_acetico['H+']))"
      ],
      "metadata": {
        "colab": {
          "base_uri": "https://localhost:8080/"
        },
        "id": "wLp1NUq_hxTT",
        "outputId": "3dd8d156-d4d9-4ecc-8733-17e89f18d47e"
      },
      "execution_count": 4,
      "outputs": [
        {
          "output_type": "stream",
          "name": "stdout",
          "text": [
            "pH (Ácido Acético): 3.39\n"
          ]
        }
      ]
    },
    {
      "cell_type": "markdown",
      "source": [
        "------------------------------------------------------------------------"
      ],
      "metadata": {
        "id": "9KCPZrtviDSV"
      }
    },
    {
      "cell_type": "markdown",
      "source": [
        "PH DEL AMONIACO"
      ],
      "metadata": {
        "id": "x5X0Vm8aiEvC"
      }
    },
    {
      "cell_type": "code",
      "source": [
        "# Ecuación para el amoníaco\n",
        "eqsys_amoniaco = EqSystem.from_string(\"\"\"NH3 + H2O = NH4+ + OH-; 10**-4.75\n",
        "  H2O = H+ + OH-; 10**-14/55.4\n",
        "  \"\"\")  # pKa(NH4+) = 9.25 & pKw=14\n",
        "\n",
        "# Resolución del sistema de ecuaciones\n",
        "arr_amoniaco, info_amoniaco, sane_amoniaco = eqsys_amoniaco.root(defaultdict(float, {'H2O': 55.4, 'NH3': 1e-2}))\n",
        "\n",
        "# Diccionario de concentraciones\n",
        "conc_amoniaco = dict(zip(eqsys_amoniaco.substances, arr_amoniaco))\n",
        "\n",
        "# Ph del amoniaco\n",
        "print(\"pH (Amoníaco): %.2f\" % -log10(conc_amoniaco['H+']))"
      ],
      "metadata": {
        "colab": {
          "base_uri": "https://localhost:8080/"
        },
        "id": "_xZ5powHiHCD",
        "outputId": "1e35230b-56e2-4932-b6b4-c612f25c7e6d"
      },
      "execution_count": 5,
      "outputs": [
        {
          "output_type": "stream",
          "name": "stdout",
          "text": [
            "pH (Amoníaco): 11.43\n"
          ]
        }
      ]
    }
  ]
}