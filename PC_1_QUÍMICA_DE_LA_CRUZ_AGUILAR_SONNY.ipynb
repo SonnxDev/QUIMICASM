{
  "nbformat": 4,
  "nbformat_minor": 0,
  "metadata": {
    "colab": {
      "provenance": [],
      "include_colab_link": true
    },
    "kernelspec": {
      "name": "python3",
      "display_name": "Python 3"
    },
    "language_info": {
      "name": "python"
    },
    "widgets": {
      "application/vnd.jupyter.widget-state+json": {
        "eff58e9a2cb14dd580a988f9a767b9f5": {
          "model_module": "faerun-notebook",
          "model_name": "SmilesDrawerModel",
          "model_module_version": "^0.1.5",
          "state": {
            "_dom_classes": [],
            "_model_module": "faerun-notebook",
            "_model_module_version": "^0.1.5",
            "_model_name": "SmilesDrawerModel",
            "_view_count": null,
            "_view_module": "faerun-notebook",
            "_view_module_version": "^0.1.5",
            "_view_name": "SmilesDrawerView",
            "background": "#1e1e1e",
            "border": true,
            "layout": "IPY_MODEL_d0047a708bb04dcd848bc49546b94b99",
            "options": {
              "scale": 1.25
            },
            "output": "svg",
            "theme": "dark",
            "value": [
              [
                "Rxn",
                "C(C1C(C(C(C(O1)O)O)O)O)O.O=O>>C(=O)=O.O"
              ]
            ]
          }
        },
        "d0047a708bb04dcd848bc49546b94b99": {
          "model_module": "@jupyter-widgets/base",
          "model_name": "LayoutModel",
          "model_module_version": "1.2.0",
          "state": {
            "_model_module": "@jupyter-widgets/base",
            "_model_module_version": "1.2.0",
            "_model_name": "LayoutModel",
            "_view_count": null,
            "_view_module": "@jupyter-widgets/base",
            "_view_module_version": "1.2.0",
            "_view_name": "LayoutView",
            "align_content": null,
            "align_items": null,
            "align_self": null,
            "border": null,
            "bottom": null,
            "display": null,
            "flex": null,
            "flex_flow": null,
            "grid_area": null,
            "grid_auto_columns": null,
            "grid_auto_flow": null,
            "grid_auto_rows": null,
            "grid_column": null,
            "grid_gap": null,
            "grid_row": null,
            "grid_template_areas": null,
            "grid_template_columns": null,
            "grid_template_rows": null,
            "height": null,
            "justify_content": null,
            "justify_items": null,
            "left": null,
            "margin": null,
            "max_height": null,
            "max_width": null,
            "min_height": null,
            "min_width": null,
            "object_fit": null,
            "object_position": null,
            "order": null,
            "overflow": null,
            "overflow_x": null,
            "overflow_y": null,
            "padding": null,
            "right": null,
            "top": null,
            "visibility": null,
            "width": null
          }
        }
      }
    }
  },
  "cells": [
    {
      "cell_type": "markdown",
      "metadata": {
        "id": "view-in-github",
        "colab_type": "text"
      },
      "source": [
        "<a href=\"https://colab.research.google.com/github/SonnxDev/QUIMICASM/blob/main/PC_1_QU%C3%8DMICA_DE_LA_CRUZ_AGUILAR_SONNY.ipynb\" target=\"_parent\"><img src=\"https://colab.research.google.com/assets/colab-badge.svg\" alt=\"Open In Colab\"/></a>"
      ]
    },
    {
      "cell_type": "markdown",
      "source": [
        "$$\\Large \\textit{UNMSM | Química}$$\n",
        "$$\\large \\textbf{PC Nº1 | Materia y clasificación}$$\n",
        "\n",
        "_Profesor: Jesus Alvarado Huayhuaz_"
      ],
      "metadata": {
        "id": "sDJAjbaQOj4x"
      }
    },
    {
      "cell_type": "markdown",
      "source": [
        "Todas las indicaciones para la presentación de la práctica son explicadas en clase y brindadas en el material de enunciado de preguntas en formato PDF."
      ],
      "metadata": {
        "id": "_DsTzWLoP7Fy"
      }
    },
    {
      "cell_type": "markdown",
      "source": [
        "## Pregunta 1: Sobre el ABC de python (4 puntos)"
      ],
      "metadata": {
        "id": "obD7c2igOD6t"
      }
    },
    {
      "cell_type": "markdown",
      "source": [
        "Durante la semana de revisión del material \"ABC de python\", reflexiona sobre qué conceptos aprendiste con claridad y cuáles consideras los más desafiantes. A continuación resuelve los siguiente ejercicios, puedes ayudarte del material en http://bit.ly/3YKICSZ."
      ],
      "metadata": {
        "id": "emt93S7dL7QH"
      }
    },
    {
      "cell_type": "code",
      "source": [
        "# Imprime la versión de python que usas y las palabras reservadas de python para esa versión.\n",
        "# Para este ejercicio se hace uso de dos librerías, para la versión de python se usa \"sys\" y para las palabras reservadas \"keyword\" o \"kw\"\n",
        "import sys\n",
        "import keyword as kw\n",
        "print(\"La versión actual de python es: \")\n",
        "print(sys.version + \"\\n\")\n",
        "print(\"Las palabras reservadas en python son:\")\n",
        "print(kw.kwlist)"
      ],
      "metadata": {
        "id": "6mJvqMN0LTU8"
      },
      "execution_count": null,
      "outputs": []
    },
    {
      "cell_type": "code",
      "source": [
        "# Crea una matriz de 3x3 e imprime la suma de los elementos en su traza (traza).\n",
        "# Primero establecemos el tamaño de la matriz\n",
        "matriz = [[1,2,3],\n",
        "          [4,5,6],\n",
        "          [7,8,9]]\n",
        "# Ahora se hallará la sumatoria de la traza\n",
        "suma_traza = 0\n",
        "for i in range(3):\n",
        "    suma_traza += matriz[i][i]\n",
        "# Ahora imprimiremos la matriz junto con la suma de la traza\n",
        "print(\"La Matriz es: \")\n",
        "for fila in matriz:\n",
        "      print(fila)\n",
        "print(\"La sumatoria de los elementos de la traza es: \")\n",
        "print(suma_traza)\n",
        "\n"
      ],
      "metadata": {
        "id": "MxDzGypdLTXh"
      },
      "execution_count": null,
      "outputs": []
    },
    {
      "cell_type": "code",
      "source": [
        "# Guarda como variable la masa atómica de los elementos C, H y O, e imprime la masa molecular del etanol.\n",
        "masa_carbono = 12\n",
        "print(\"Masa molecular del carbono: \",masa_carbono)\n",
        "masa_hidrogeno = 1\n",
        "print(\"Masa molecular del hidrogeno: \",masa_hidrogeno)\n",
        "masa_oxigeno= 16\n",
        "print(\"Masa molecular del oxigeno: \",masa_oxigeno)\n",
        "\n",
        "masa_molecular=(masa_carbono*2)+(masa_hidrogeno*6)+masa_oxigeno\n",
        "\n",
        "print(\"Formula del etanol: C2H6O\")\n",
        "print(\"\\n La masa molecular del etanol es: \" + str(masa_molecular) + \"g/mol\")"
      ],
      "metadata": {
        "id": "MyhNX7JmLTSe",
        "colab": {
          "base_uri": "https://localhost:8080/"
        },
        "outputId": "f52bf37e-8aaf-4c8e-ae62-cecec2629524"
      },
      "execution_count": null,
      "outputs": [
        {
          "output_type": "stream",
          "name": "stdout",
          "text": [
            "Masa molecular del carbono:  12\n",
            "Masa molecular del hidrogeno:  1\n",
            "Masa molecular del oxigeno:  16\n",
            "Formula del etanol: C2H6O\n",
            "\n",
            " La masa molecular del etanol es: 46g/mol\n"
          ]
        }
      ]
    },
    {
      "cell_type": "code",
      "source": [
        "# Busca la temperatura de fusión en Celsius de 5 metales y guárdalos en una lista. Imprime las temperaturas en Kelvin\n",
        "# Almacenamos los valores de los metales en la siguiente lista\n",
        "punto_fusionC = [\n",
        "    (\"Hierro\", 1538),\n",
        "    (\"Cobre\", 1084.62),\n",
        "    (\"Plata\", 961.78),\n",
        "    (\"Oro\", 1064),\n",
        "    (\"Aluminio\", 660.32)\n",
        "]\n",
        "# Imprimiremos la lista de metales y los puntos de fusión en grados Kelvin\n",
        "for metal, punto_fusionK in punto_fusionC:\n",
        "    print(f\"Punto de fusión del {metal}: = {str(punto_fusionK + 273.15)} °K\")\n",
        "\n",
        "\n"
      ],
      "metadata": {
        "id": "NCOnJ0FwgLLc",
        "colab": {
          "base_uri": "https://localhost:8080/"
        },
        "outputId": "5ac07503-4f71-41d3-8953-d9e13cfa0725"
      },
      "execution_count": null,
      "outputs": [
        {
          "output_type": "stream",
          "name": "stdout",
          "text": [
            "Punto de fusión del Hierro: = 1811.15 °K\n",
            "Punto de fusión del Cobre: = 1357.77 °K\n",
            "Punto de fusión del Plata: = 1234.9299999999998 °K\n",
            "Punto de fusión del Oro: = 1337.15 °K\n",
            "Punto de fusión del Aluminio: = 933.47 °K\n"
          ]
        }
      ]
    },
    {
      "cell_type": "markdown",
      "source": [
        "## Pregunta 2: Operaciones (4 puntos)"
      ],
      "metadata": {
        "id": "epzOadagLfPi"
      }
    },
    {
      "cell_type": "markdown",
      "source": [
        "Escribe un programa que lea repetidamente elementos químicos en español hasta que el usuario introduzca “fin”. Una vez se haya introducido “fin”, muestra por pantalla (o sea imprime) el total de elementos ingresados. Si el usuario introduce cualquier otra cosa que no sea un elemento químico, detecta su fallo usando try y except, muestra un mensaje de error y pasa al siguiente elemento."
      ],
      "metadata": {
        "id": "MbAEOGPsjOWZ"
      }
    },
    {
      "cell_type": "code",
      "source": [
        "# Creamos una lista donde almacenar los elementos químicos ingresados\n",
        "elementos_quimicos = []\n",
        "# Utilizaremos una función para determinar si es un elemento químico\n",
        "def es_elemento_quimico(elemento):\n",
        "    elementos_validos = [\"hidrogeno\", \"helio\", \"litio\", \"berilio\", \"boro\", \"carbono\", \"nitrogeno\", \"oxigeno\",\n",
        "    \"fluor\", \"neon\", \"sodio\", \"magnesio\", \"aluminio\", \"silicio\", \"fosforo\", \"azufre\",\n",
        "    \"cloro\", \"argon\", \"potasio\", \"calcio\", \"escandio\", \"titanio\", \"vanadio\", \"cromo\",\n",
        "    \"manganeso\", \"hierro\", \"cobalto\", \"niquel\", \"cobre\", \"zinc\", \"galio\", \"germanio\",\n",
        "    \"arsenico\", \"selenio\", \"bromo\", \"kripton\", \"rubidio\", \"estroncio\", \"itrio\", \"circonio\",\n",
        "    \"niobio\", \"molibdeno\", \"tecnecio\", \"rutenio\", \"rodio\", \"paladio\", \"plata\", \"cadmio\",\n",
        "    \"indio\", \"estaño\", \"antimonio\", \"telurio\", \"yodo\", \"xenon\", \"cesio\", \"bario\",\n",
        "    \"lantano\", \"cerio\", \"praseodimio\", \"neodimio\", \"prometio\", \"samario\", \"europio\",\n",
        "    \"gadolinio\", \"terbio\", \"disprosio\", \"holmio\", \"erbio\", \"tulio\", \"iterbio\", \"lutecio\",\n",
        "    \"hafnio\", \"tantalo\", \"wolframio\", \"renio\", \"osmio\", \"iridio\", \"platino\", \"oro\",\n",
        "    \"mercurio\", \"talio\", \"plomo\", \"bismuto\", \"polonio\", \"astato\", \"radon\", \"francio\",\n",
        "    \"radio\", \"actinio\", \"torio\", \"protactinio\", \"uranio\", \"neptunio\", \"plutonio\",\n",
        "    \"americio\", \"curio\", \"berkelio\", \"californio\", \"einsteinio\", \"fermio\", \"mendelevio\",\n",
        "    \"nobelio\", \"lawrencio\", \"rutherfordio\", \"dubnio\", \"seaborgio\", \"bohrio\", \"hassio\",\n",
        "    \"meitnerio\", \"darmstadtio\", \"roentgenio\", \"copernicio\", \"nihonio\", \"flerovio\",\n",
        "    \"moscovio\", \"livermorio\", \"tennessino\", \"oganesson\"]\n",
        "    return elemento.lower() in elementos_validos\n",
        "# bluce de lectura\n",
        "while True:\n",
        "    entrada = input(\"Ingresa el nombre de un elemento químico o (fin) para terminar: \")\n",
        "\n",
        "    if entrada.lower() == \"fin\":\n",
        "        break\n",
        "\n",
        "    try:\n",
        "        if es_elemento_quimico(entrada):\n",
        "            elementos_quimicos.append(entrada)\n",
        "        else:\n",
        "            print(\"Ingrese un elemento químico o palabra válida\")\n",
        "    except:\n",
        "        print(\"error\")\n",
        "# Impresión de la lista de elementos químicos ingresados y la cantidad\n",
        "print(\"Elementos químicos ingresados:\")\n",
        "for elemento in elementos_quimicos:\n",
        "    print(elemento)\n",
        "print(f\"Total de elementos ingresados: {len(elementos_quimicos)}\")\n",
        "print(f\"Elitlementos ingresados: {(elementos_quimicos)}\")"
      ],
      "metadata": {
        "id": "gJGX0p5QLetj",
        "colab": {
          "base_uri": "https://localhost:8080/"
        },
        "outputId": "0c5192ae-92be-44da-f4d4-014ce3518ca7"
      },
      "execution_count": null,
      "outputs": [
        {
          "output_type": "stream",
          "name": "stdout",
          "text": [
            "Ingresa el nombre de un elemento químico o (fin) para terminar: sodio\n",
            "Ingresa el nombre de un elemento químico o (fin) para terminar: litio\n",
            "Ingresa el nombre de un elemento químico o (fin) para terminar: berilio\n",
            "Ingresa el nombre de un elemento químico o (fin) para terminar: potasio\n",
            "Ingresa el nombre de un elemento químico o (fin) para terminar: caca\n",
            "Ingrese un elemento químico o palabra válida\n",
            "Ingresa el nombre de un elemento químico o (fin) para terminar: caca cara poto\n",
            "Ingrese un elemento químico o palabra válida\n",
            "Ingresa el nombre de un elemento químico o (fin) para terminar: fin\n",
            "Elementos químicos ingresados:\n",
            "sodio\n",
            "litio\n",
            "berilio\n",
            "potasio\n",
            "Total de elementos ingresados: 4\n",
            "Elementos ingresados: ['sodio', 'litio', 'berilio', 'potasio']\n"
          ]
        }
      ]
    },
    {
      "cell_type": "markdown",
      "source": [
        "# Pregunta 3: Conservación de la masa (4 puntos)"
      ],
      "metadata": {
        "id": "8gxSHpD3LZsh"
      }
    },
    {
      "cell_type": "markdown",
      "source": [
        "### Código necesario para generar la imagen"
      ],
      "metadata": {
        "id": "mMV9c3hDl7KL"
      }
    },
    {
      "cell_type": "code",
      "source": [
        "!pip install faerun-notebook==0.1.5b0\n",
        "\n",
        "import ipywidgets as widgets\n",
        "from faerun_notebook import SmilesDrawer\n",
        "from google.colab import output\n",
        "output.enable_custom_widget_manager()"
      ],
      "metadata": {
        "id": "JgF8Ohtbky65"
      },
      "execution_count": null,
      "outputs": []
    },
    {
      "cell_type": "markdown",
      "source": [
        "### Reacción química"
      ],
      "metadata": {
        "id": "5sLC10D_oSrV"
      }
    },
    {
      "cell_type": "markdown",
      "source": [
        "Demuestra cómo se cumple la conservación de la masa en la siguiente reacción química. Sugerencia: hacer un balance estequiométrico y luego emplear la masa molecular de reactivos y productos."
      ],
      "metadata": {
        "id": "OVRhAzaVmD86"
      }
    },
    {
      "cell_type": "code",
      "source": [
        "SmilesDrawer(value=[(\"Rxn\", \"C(C1C(C(C(C(O1)O)O)O)O)O.O=O>>C(=O)=O.O\")], theme='dark', background=\"#1e1e1e\", options={'scale': 1.25})"
      ],
      "metadata": {
        "colab": {
          "base_uri": "https://localhost:8080/",
          "height": 289,
          "referenced_widgets": [
            "eff58e9a2cb14dd580a988f9a767b9f5",
            "d0047a708bb04dcd848bc49546b94b99"
          ]
        },
        "id": "CC0mAXWmnYyN",
        "outputId": "15c17c8d-b0e0-4082-bf7d-445f8e0cab79"
      },
      "execution_count": null,
      "outputs": [
        {
          "output_type": "display_data",
          "data": {
            "text/plain": [
              "SmilesDrawer(background='#1e1e1e', options={'scale': 1.25}, theme='dark', value=[('Rxn', 'C(C1C(C(C(C(O1)O)O)O…"
            ],
            "application/vnd.jupyter.widget-view+json": {
              "version_major": 2,
              "version_minor": 0,
              "model_id": "eff58e9a2cb14dd580a988f9a767b9f5"
            }
          },
          "metadata": {
            "application/vnd.jupyter.widget-view+json": {
              "colab": {
                "custom_widget_manager": {
                  "url": "https://ssl.gstatic.com/colaboratory-static/widgets/colab-cdn-widget-manager/b3e629b1971e1542/manager.min.js"
                }
              }
            }
          }
        }
      ]
    },
    {
      "cell_type": "code",
      "source": [
        "# Importamos librería para poder balancear estequiométricamente (En el colab no es ejecutable, por lo que la biblioteca \"chempy\" debe estar instalada en el dispositivo)\n",
        "!pip install chempy\n",
        "from chempy import balance_stoichiometry\n",
        "# definimos los coeficientes de la reacción\n",
        "reactivo,producto = balance_stoichiometry({\"C6O6H5\" , \"O2\"},{\"CO2\" , \"OH2\"})\n",
        "print(\"Los reactivos con sus respectivos coeficientes son: \",reactivo)\n",
        "print(\"Los productos con sus respectivos coeficientes son: \",producto)\n",
        "# Luego guardamos en variables los datos de las masas moleculares de los reactivos y productos\n",
        "masa_molecular_C6O6H5 = 173.11\n",
        "masa_molecular_O2 = 31.998\n",
        "masa_molecular_CO2 = 44.01\n",
        "masa_molecular_H2O = 18.015\n",
        "# Luego imprimiremos la reacción YA BALANCEADA\n",
        "print(\"La ecuación ya balanceda es: \\n 4 C6O6H5 + 17 O2 -> 24 CO2 + 10 OH2\")\n",
        "# Establecemos la cantidad de moles de los reactivos\n",
        "moles_C6O6H5 = 4    # moles\n",
        "moles_O2 = 17       # moles\n",
        "# Calculamos la cantidad de moles de CO2 en la ecuación ya balanceada\n",
        "moles_CO2_producidos = 24\n",
        "# Calculamos la cantidad de moles de H2O producidos\n",
        "moles_H2O_producidos = 10\n",
        "# Calculamos el total de la masa del reactivo y del producto\n",
        "masa_reactivos = moles_C6O6H5 * masa_molecular_C6O6H5 + moles_O2 * masa_molecular_O2\n",
        "masa_productos = moles_CO2_producidos * masa_molecular_CO2 + moles_H2O_producidos * masa_molecular_H2O\n",
        "# Imprimimos la masa de los reactivos y productos\n",
        "print(\"La masa molecular de los reactivos es: \",masa_reactivos)\n",
        "print(\"La masa molecular del producto es: \",masa_productos)\n",
        "# Verificamos la conservación de la masa, pero primero aproximamos los valores para que así no exista un error por decimales muy pequeños\n",
        "import math\n",
        "reac_aprox = math.trunc(masa_reactivos)\n",
        "prod_aprox = math.trunc(masa_productos)\n",
        "# Verificamos la conservación de la masa\n",
        "if reac_aprox == prod_aprox:\n",
        "    print(\"La masa se conserva en la reacción.\")\n",
        "else:\n",
        "    print(\"La masa no se conserva en la reacción.\")"
      ],
      "metadata": {
        "id": "oqFfjiJ9D4gZ"
      },
      "execution_count": null,
      "outputs": []
    },
    {
      "cell_type": "markdown",
      "source": [
        "## Pregunta 4: Notación científica (4 puntos)"
      ],
      "metadata": {
        "id": "Rh-nAUiKhJNB"
      }
    },
    {
      "cell_type": "markdown",
      "source": [
        "Imprime las siguientes operaciones según la notación científica:\n",
        "\n",
        "(1) $1.321 \\times 10^{-4} + 8.5 \\times 10^{-2}$\n",
        "\n",
        "(2) $1.71 \\times 10^{3} - 2.01 \\times 10^{2}\\$\n",
        "\n",
        "(3) $(7.4 \\times 10^5)(7.2 \\times 10^4)$\n",
        "\n",
        "(4) $(7.4 \\times 10^5)/(7.2 \\times 10^4)$"
      ],
      "metadata": {
        "id": "NIkI45Xdqqnt"
      }
    },
    {
      "cell_type": "code",
      "source": [
        "print(f'1. {0.085:.1e}')\n",
        "print(f'2. {151:.2e}')\n",
        "print(f'3. {53000000000:.1e}')\n",
        "print(f'4. {10:.1e}')"
      ],
      "metadata": {
        "colab": {
          "base_uri": "https://localhost:8080/"
        },
        "id": "8wMSDDWThjmH",
        "outputId": "20731672-1473-4286-9259-3edfa56ee52e"
      },
      "execution_count": null,
      "outputs": [
        {
          "output_type": "stream",
          "name": "stdout",
          "text": [
            "1. 8.5e-02\n",
            "2. 1.51e+02\n",
            "3. 5.3e+10\n",
            "4. 1.0e+01\n"
          ]
        }
      ]
    },
    {
      "cell_type": "markdown",
      "source": [
        "## Pregunta 5: Método científico (4 puntos)"
      ],
      "metadata": {
        "id": "CuzCcXJghR14"
      }
    },
    {
      "cell_type": "markdown",
      "source": [
        "Artículo: https://bit.ly/3surZ1W\n",
        "Leer el siguiente artículo y explica cómo es aplicado el método científico. Emplea como máximo 300 palabras."
      ],
      "metadata": {
        "id": "WngRSR-Rhmx1"
      }
    },
    {
      "cell_type": "markdown",
      "source": [
        "La etapa de observación en este estudio se refiere a la detección de las características de LK-99 y cómo se comporta en diversas circunstancias. Los científicos notaron que el material parecía flotar sobre un imán y que su resistencia eléctrica disminuía de forma drástica, lo que en un principio sugirió que podría ser un superconductor a temperatura ambiente. Sin embargo, otros grupos de investigación advirtieron que estos fenómenos podrían tener explicaciones más convencionales y que LK-99 no poseía propiedades de superconductividad. Además, los investigadores también analizaron la estructura y composición química del material para entender sus propiedades auténticas. En síntesis, la fase de observación en este artículo se enfocó en examinar las cualidades y el comportamiento de LK-99 con el propósito de llegar a una conclusión acerca de su verdadera naturaleza."
      ],
      "metadata": {
        "id": "si4NBj_PsrQx"
      }
    }
  ]
}